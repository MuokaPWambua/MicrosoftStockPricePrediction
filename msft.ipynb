{
 "cells": [
  {
   "attachments": {},
   "cell_type": "markdown",
   "metadata": {},
   "source": [
    "# Microsoft Stock Price Prediction Model\n",
    "The MSFT data is a 4 year worth of data from 2019-2023"
   ]
  },
  {
   "cell_type": "code",
   "execution_count": 89,
   "metadata": {},
   "outputs": [],
   "source": [
    "#import necessary modules\n",
    "import os\n",
    "import time\n",
    "import numpy as np\n",
    "import pandas as pd\n",
    "import seaborn as sns\n",
    "import matplotlib.pyplot as plt\n",
    "%matplotlib inline"
   ]
  },
  {
   "cell_type": "code",
   "execution_count": 90,
   "metadata": {},
   "outputs": [
    {
     "name": "stdout",
     "output_type": "stream",
     "text": [
      "<class 'pandas.core.frame.DataFrame'>\n",
      "RangeIndex: 1020 entries, 0 to 1019\n",
      "Data columns (total 7 columns):\n",
      " #   Column     Non-Null Count  Dtype  \n",
      "---  ------     --------------  -----  \n",
      " 0   Date       1020 non-null   object \n",
      " 1   Open       1020 non-null   float64\n",
      " 2   High       1020 non-null   float64\n",
      " 3   Low        1020 non-null   float64\n",
      " 4   Close      1020 non-null   float64\n",
      " 5   Adj Close  1020 non-null   float64\n",
      " 6   Volume     1020 non-null   int64  \n",
      "dtypes: float64(5), int64(1), object(1)\n",
      "memory usage: 55.9+ KB\n"
     ]
    },
    {
     "data": {
      "text/plain": [
       "None"
      ]
     },
     "metadata": {},
     "output_type": "display_data"
    },
    {
     "data": {
      "text/plain": [
       "'Data Head'"
      ]
     },
     "metadata": {},
     "output_type": "display_data"
    },
    {
     "data": {
      "text/html": [
       "<div>\n",
       "<style scoped>\n",
       "    .dataframe tbody tr th:only-of-type {\n",
       "        vertical-align: middle;\n",
       "    }\n",
       "\n",
       "    .dataframe tbody tr th {\n",
       "        vertical-align: top;\n",
       "    }\n",
       "\n",
       "    .dataframe thead th {\n",
       "        text-align: right;\n",
       "    }\n",
       "</style>\n",
       "<table border=\"1\" class=\"dataframe\">\n",
       "  <thead>\n",
       "    <tr style=\"text-align: right;\">\n",
       "      <th></th>\n",
       "      <th>Date</th>\n",
       "      <th>Open</th>\n",
       "      <th>High</th>\n",
       "      <th>Low</th>\n",
       "      <th>Close</th>\n",
       "      <th>Adj Close</th>\n",
       "      <th>Volume</th>\n",
       "    </tr>\n",
       "  </thead>\n",
       "  <tbody>\n",
       "    <tr>\n",
       "      <th>0</th>\n",
       "      <td>2019-01-02</td>\n",
       "      <td>99.550003</td>\n",
       "      <td>101.750000</td>\n",
       "      <td>98.940002</td>\n",
       "      <td>101.120003</td>\n",
       "      <td>96.874695</td>\n",
       "      <td>35329300</td>\n",
       "    </tr>\n",
       "    <tr>\n",
       "      <th>1</th>\n",
       "      <td>2019-01-03</td>\n",
       "      <td>100.099998</td>\n",
       "      <td>100.190002</td>\n",
       "      <td>97.199997</td>\n",
       "      <td>97.400002</td>\n",
       "      <td>93.310875</td>\n",
       "      <td>42579100</td>\n",
       "    </tr>\n",
       "    <tr>\n",
       "      <th>2</th>\n",
       "      <td>2019-01-04</td>\n",
       "      <td>99.720001</td>\n",
       "      <td>102.510002</td>\n",
       "      <td>98.930000</td>\n",
       "      <td>101.930000</td>\n",
       "      <td>97.650673</td>\n",
       "      <td>44060600</td>\n",
       "    </tr>\n",
       "    <tr>\n",
       "      <th>3</th>\n",
       "      <td>2019-01-07</td>\n",
       "      <td>101.639999</td>\n",
       "      <td>103.269997</td>\n",
       "      <td>100.980003</td>\n",
       "      <td>102.059998</td>\n",
       "      <td>97.775223</td>\n",
       "      <td>35656100</td>\n",
       "    </tr>\n",
       "    <tr>\n",
       "      <th>4</th>\n",
       "      <td>2019-01-08</td>\n",
       "      <td>103.040001</td>\n",
       "      <td>103.970001</td>\n",
       "      <td>101.709999</td>\n",
       "      <td>102.800003</td>\n",
       "      <td>98.484177</td>\n",
       "      <td>31514400</td>\n",
       "    </tr>\n",
       "  </tbody>\n",
       "</table>\n",
       "</div>"
      ],
      "text/plain": [
       "         Date        Open        High         Low       Close  Adj Close  \\\n",
       "0  2019-01-02   99.550003  101.750000   98.940002  101.120003  96.874695   \n",
       "1  2019-01-03  100.099998  100.190002   97.199997   97.400002  93.310875   \n",
       "2  2019-01-04   99.720001  102.510002   98.930000  101.930000  97.650673   \n",
       "3  2019-01-07  101.639999  103.269997  100.980003  102.059998  97.775223   \n",
       "4  2019-01-08  103.040001  103.970001  101.709999  102.800003  98.484177   \n",
       "\n",
       "     Volume  \n",
       "0  35329300  \n",
       "1  42579100  \n",
       "2  44060600  \n",
       "3  35656100  \n",
       "4  31514400  "
      ]
     },
     "metadata": {},
     "output_type": "display_data"
    },
    {
     "data": {
      "text/plain": [
       "'Data Description'"
      ]
     },
     "metadata": {},
     "output_type": "display_data"
    },
    {
     "data": {
      "text/html": [
       "<div>\n",
       "<style scoped>\n",
       "    .dataframe tbody tr th:only-of-type {\n",
       "        vertical-align: middle;\n",
       "    }\n",
       "\n",
       "    .dataframe tbody tr th {\n",
       "        vertical-align: top;\n",
       "    }\n",
       "\n",
       "    .dataframe thead th {\n",
       "        text-align: right;\n",
       "    }\n",
       "</style>\n",
       "<table border=\"1\" class=\"dataframe\">\n",
       "  <thead>\n",
       "    <tr style=\"text-align: right;\">\n",
       "      <th></th>\n",
       "      <th>Open</th>\n",
       "      <th>High</th>\n",
       "      <th>Low</th>\n",
       "      <th>Close</th>\n",
       "      <th>Adj Close</th>\n",
       "      <th>Volume</th>\n",
       "    </tr>\n",
       "  </thead>\n",
       "  <tbody>\n",
       "    <tr>\n",
       "      <th>count</th>\n",
       "      <td>1020.000000</td>\n",
       "      <td>1020.000000</td>\n",
       "      <td>1020.000000</td>\n",
       "      <td>1020.000000</td>\n",
       "      <td>1020.000000</td>\n",
       "      <td>1.020000e+03</td>\n",
       "    </tr>\n",
       "    <tr>\n",
       "      <th>mean</th>\n",
       "      <td>217.119618</td>\n",
       "      <td>219.420049</td>\n",
       "      <td>214.711265</td>\n",
       "      <td>217.177088</td>\n",
       "      <td>213.794872</td>\n",
       "      <td>2.989538e+07</td>\n",
       "    </tr>\n",
       "    <tr>\n",
       "      <th>std</th>\n",
       "      <td>64.922569</td>\n",
       "      <td>65.557039</td>\n",
       "      <td>64.155292</td>\n",
       "      <td>64.876109</td>\n",
       "      <td>65.636831</td>\n",
       "      <td>1.267774e+07</td>\n",
       "    </tr>\n",
       "    <tr>\n",
       "      <th>min</th>\n",
       "      <td>99.550003</td>\n",
       "      <td>100.190002</td>\n",
       "      <td>97.199997</td>\n",
       "      <td>97.400002</td>\n",
       "      <td>93.310875</td>\n",
       "      <td>8.989200e+06</td>\n",
       "    </tr>\n",
       "    <tr>\n",
       "      <th>25%</th>\n",
       "      <td>152.432502</td>\n",
       "      <td>155.867496</td>\n",
       "      <td>151.310005</td>\n",
       "      <td>154.489998</td>\n",
       "      <td>150.192452</td>\n",
       "      <td>2.190638e+07</td>\n",
       "    </tr>\n",
       "    <tr>\n",
       "      <th>50%</th>\n",
       "      <td>222.944999</td>\n",
       "      <td>225.774994</td>\n",
       "      <td>220.234993</td>\n",
       "      <td>223.074997</td>\n",
       "      <td>219.749168</td>\n",
       "      <td>2.699105e+07</td>\n",
       "    </tr>\n",
       "    <tr>\n",
       "      <th>75%</th>\n",
       "      <td>266.019989</td>\n",
       "      <td>268.307488</td>\n",
       "      <td>263.452507</td>\n",
       "      <td>266.659996</td>\n",
       "      <td>264.892158</td>\n",
       "      <td>3.389500e+07</td>\n",
       "    </tr>\n",
       "    <tr>\n",
       "      <th>max</th>\n",
       "      <td>344.619995</td>\n",
       "      <td>349.670013</td>\n",
       "      <td>342.200012</td>\n",
       "      <td>343.109985</td>\n",
       "      <td>339.924835</td>\n",
       "      <td>9.701270e+07</td>\n",
       "    </tr>\n",
       "  </tbody>\n",
       "</table>\n",
       "</div>"
      ],
      "text/plain": [
       "              Open         High          Low        Close    Adj Close  \\\n",
       "count  1020.000000  1020.000000  1020.000000  1020.000000  1020.000000   \n",
       "mean    217.119618   219.420049   214.711265   217.177088   213.794872   \n",
       "std      64.922569    65.557039    64.155292    64.876109    65.636831   \n",
       "min      99.550003   100.190002    97.199997    97.400002    93.310875   \n",
       "25%     152.432502   155.867496   151.310005   154.489998   150.192452   \n",
       "50%     222.944999   225.774994   220.234993   223.074997   219.749168   \n",
       "75%     266.019989   268.307488   263.452507   266.659996   264.892158   \n",
       "max     344.619995   349.670013   342.200012   343.109985   339.924835   \n",
       "\n",
       "             Volume  \n",
       "count  1.020000e+03  \n",
       "mean   2.989538e+07  \n",
       "std    1.267774e+07  \n",
       "min    8.989200e+06  \n",
       "25%    2.190638e+07  \n",
       "50%    2.699105e+07  \n",
       "75%    3.389500e+07  \n",
       "max    9.701270e+07  "
      ]
     },
     "metadata": {},
     "output_type": "display_data"
    }
   ],
   "source": [
    "# get dataset\n",
    "df = pd.read_csv('data/MSFT.csv')\n",
    "display(df.info(), 'Data Head', df.head(), 'Data Description', df.describe())"
   ]
  },
  {
   "cell_type": "code",
   "execution_count": 91,
   "metadata": {},
   "outputs": [
    {
     "data": {
      "text/plain": [
       "[<matplotlib.lines.Line2D at 0x7f03f5d89b40>]"
      ]
     },
     "execution_count": 91,
     "metadata": {},
     "output_type": "execute_result"
    },
    {
     "data": {
      "image/png": "[encoded data removed]",
      "text/plain": [
       "<Figure size 1600x600 with 1 Axes>"
      ]
     },
     "metadata": {},
     "output_type": "display_data"
    }
   ],
   "source": [
    "plt.figure(1, figsize=(16,6))\n",
    "plt.plot(df.Close)"
   ]
  },
  {
   "attachments": {},
   "cell_type": "markdown",
   "metadata": {},
   "source": [
    "## Feature Enginering"
   ]
  },
  {
   "attachments": {},
   "cell_type": "markdown",
   "metadata": {},
   "source": [
    "##### Calculate percentage change"
   ]
  },
  {
   "cell_type": "code",
   "execution_count": 92,
   "metadata": {},
   "outputs": [
    {
     "data": {
      "text/plain": [
       "0            NaN\n",
       "1      -0.036788\n",
       "2       0.046509\n",
       "3       0.001275\n",
       "4       0.007251\n",
       "          ...   \n",
       "1015    0.011621\n",
       "1016    0.003019\n",
       "1017    0.004682\n",
       "1018   -0.018889\n",
       "1019   -0.016454\n",
       "Name: Returns, Length: 1020, dtype: float64"
      ]
     },
     "execution_count": 92,
     "metadata": {},
     "output_type": "execute_result"
    }
   ],
   "source": [
    "df[\"Returns\"] = df.Close.pct_change()\n",
    "df.Returns"
   ]
  },
  {
   "cell_type": "code",
   "execution_count": 93,
   "metadata": {},
   "outputs": [
    {
     "data": {
      "text/html": [
       "<div>\n",
       "<style scoped>\n",
       "    .dataframe tbody tr th:only-of-type {\n",
       "        vertical-align: middle;\n",
       "    }\n",
       "\n",
       "    .dataframe tbody tr th {\n",
       "        vertical-align: top;\n",
       "    }\n",
       "\n",
       "    .dataframe thead th {\n",
       "        text-align: right;\n",
       "    }\n",
       "</style>\n",
       "<table border=\"1\" class=\"dataframe\">\n",
       "  <thead>\n",
       "    <tr style=\"text-align: right;\">\n",
       "      <th></th>\n",
       "      <th>Date</th>\n",
       "      <th>Open</th>\n",
       "      <th>High</th>\n",
       "      <th>Low</th>\n",
       "      <th>Close</th>\n",
       "      <th>Adj Close</th>\n",
       "      <th>Volume</th>\n",
       "      <th>Returns</th>\n",
       "      <th>Log_Returns</th>\n",
       "    </tr>\n",
       "  </thead>\n",
       "  <tbody>\n",
       "    <tr>\n",
       "      <th>0</th>\n",
       "      <td>2019-01-02</td>\n",
       "      <td>99.550003</td>\n",
       "      <td>101.750000</td>\n",
       "      <td>98.940002</td>\n",
       "      <td>101.120003</td>\n",
       "      <td>96.874695</td>\n",
       "      <td>35329300</td>\n",
       "      <td>NaN</td>\n",
       "      <td>NaN</td>\n",
       "    </tr>\n",
       "    <tr>\n",
       "      <th>1</th>\n",
       "      <td>2019-01-03</td>\n",
       "      <td>100.099998</td>\n",
       "      <td>100.190002</td>\n",
       "      <td>97.199997</td>\n",
       "      <td>97.400002</td>\n",
       "      <td>93.310875</td>\n",
       "      <td>42579100</td>\n",
       "      <td>-0.036788</td>\n",
       "      <td>-0.037482</td>\n",
       "    </tr>\n",
       "    <tr>\n",
       "      <th>2</th>\n",
       "      <td>2019-01-04</td>\n",
       "      <td>99.720001</td>\n",
       "      <td>102.510002</td>\n",
       "      <td>98.930000</td>\n",
       "      <td>101.930000</td>\n",
       "      <td>97.650673</td>\n",
       "      <td>44060600</td>\n",
       "      <td>0.046509</td>\n",
       "      <td>0.045460</td>\n",
       "    </tr>\n",
       "    <tr>\n",
       "      <th>3</th>\n",
       "      <td>2019-01-07</td>\n",
       "      <td>101.639999</td>\n",
       "      <td>103.269997</td>\n",
       "      <td>100.980003</td>\n",
       "      <td>102.059998</td>\n",
       "      <td>97.775223</td>\n",
       "      <td>35656100</td>\n",
       "      <td>0.001275</td>\n",
       "      <td>0.001275</td>\n",
       "    </tr>\n",
       "    <tr>\n",
       "      <th>4</th>\n",
       "      <td>2019-01-08</td>\n",
       "      <td>103.040001</td>\n",
       "      <td>103.970001</td>\n",
       "      <td>101.709999</td>\n",
       "      <td>102.800003</td>\n",
       "      <td>98.484177</td>\n",
       "      <td>31514400</td>\n",
       "      <td>0.007251</td>\n",
       "      <td>0.007225</td>\n",
       "    </tr>\n",
       "  </tbody>\n",
       "</table>\n",
       "</div>"
      ],
      "text/plain": [
       "         Date        Open        High         Low       Close  Adj Close  \\\n",
       "0  2019-01-02   99.550003  101.750000   98.940002  101.120003  96.874695   \n",
       "1  2019-01-03  100.099998  100.190002   97.199997   97.400002  93.310875   \n",
       "2  2019-01-04   99.720001  102.510002   98.930000  101.930000  97.650673   \n",
       "3  2019-01-07  101.639999  103.269997  100.980003  102.059998  97.775223   \n",
       "4  2019-01-08  103.040001  103.970001  101.709999  102.800003  98.484177   \n",
       "\n",
       "     Volume   Returns  Log_Returns  \n",
       "0  35329300       NaN          NaN  \n",
       "1  42579100 -0.036788    -0.037482  \n",
       "2  44060600  0.046509     0.045460  \n",
       "3  35656100  0.001275     0.001275  \n",
       "4  31514400  0.007251     0.007225  "
      ]
     },
     "execution_count": 93,
     "metadata": {},
     "output_type": "execute_result"
    }
   ],
   "source": [
    "df[\"Log_Returns\"] = np.log(1+df.Returns)\n",
    "df.head()"
   ]
  },
  {
   "cell_type": "code",
   "execution_count": 94,
   "metadata": {},
   "outputs": [
    {
     "data": {
      "text/plain": [
       "[<matplotlib.lines.Line2D at 0x7f03f6698550>]"
      ]
     },
     "execution_count": 94,
     "metadata": {},
     "output_type": "execute_result"
    },
    {
     "data": {
      "image/png": "[encoded data removed]",
      "text/plain": [
       "<Figure size 1600x600 with 1 Axes>"
      ]
     },
     "metadata": {},
     "output_type": "display_data"
    }
   ],
   "source": [
    "plt.figure(1, figsize=(16,6))\n",
    "plt.plot(df.Log_Returns)"
   ]
  },
  {
   "cell_type": "code",
   "execution_count": 95,
   "metadata": {},
   "outputs": [
    {
     "data": {
      "text/plain": [
       "array([[ 9.74000020e+01, -3.74817289e-02],\n",
       "       [ 1.01930000e+02,  4.54600720e-02],\n",
       "       [ 1.02059998e+02,  1.27455286e-03],\n",
       "       ...,\n",
       "       [ 2.40350006e+02,  4.67080375e-03],\n",
       "       [ 2.35809998e+02, -1.90698318e-02],\n",
       "       [ 2.31929993e+02, -1.65908157e-02]])"
      ]
     },
     "execution_count": 95,
     "metadata": {},
     "output_type": "execute_result"
    }
   ],
   "source": [
    "df.dropna(inplace=True)\n",
    "X = df[['Close', 'Log_Returns']].values\n",
    "X"
   ]
  },
  {
   "attachments": {},
   "cell_type": "markdown",
   "metadata": {},
   "source": [
    "#### Data Preprocessing"
   ]
  },
  {
   "cell_type": "code",
   "execution_count": 96,
   "metadata": {},
   "outputs": [],
   "source": [
    "from sklearn.preprocessing import MinMaxScaler"
   ]
  },
  {
   "cell_type": "code",
   "execution_count": 97,
   "metadata": {},
   "outputs": [
    {
     "data": {
      "text/plain": [
       "array([[0.        , 0.41716495],\n",
       "       [0.01843636, 0.70084072],\n",
       "       [0.01896543, 0.54971835],\n",
       "       [0.02197713, 0.57006832],\n",
       "       [0.02795977, 0.5939198 ]])"
      ]
     },
     "execution_count": 97,
     "metadata": {},
     "output_type": "execute_result"
    }
   ],
   "source": [
    "mms = MinMaxScaler(feature_range=(0, 1)).fit(X)\n",
    "X = mms.transform(X)\n",
    "y = [x[0] for x in X]\n",
    "X[:5]"
   ]
  },
  {
   "cell_type": "code",
   "execution_count": 98,
   "metadata": {},
   "outputs": [
    {
     "data": {
      "text/plain": [
       "[0.0,\n",
       " 0.01843636121207176,\n",
       " 0.01896543210456364,\n",
       " 0.021977133098413815,\n",
       " 0.027959771581604786]"
      ]
     },
     "execution_count": 98,
     "metadata": {},
     "output_type": "execute_result"
    }
   ],
   "source": [
    "y[:5]"
   ]
  },
  {
   "cell_type": "code",
   "execution_count": 99,
   "metadata": {},
   "outputs": [
    {
     "name": "stdout",
     "output_type": "stream",
     "text": [
      "X train size 815 X test size 204    y train size 815 y test size 204\n"
     ]
    }
   ],
   "source": [
    "# Split train test\n",
    "split = int(len(X)*0.8)\n",
    "X_train = X[:split]\n",
    "X_test = X[split:len(X)]\n",
    "y_train = y[:split]\n",
    "y_test = y[split:len(y)]\n",
    "print(f\"X train size {X_train.shape[0]} X test size {X_test.shape[0]}\\\n",
    "    y train size {len(y_train)} y test size {len(y_test)}\")"
   ]
  },
  {
   "attachments": {},
   "cell_type": "markdown",
   "metadata": {},
   "source": [
    "We want to predict the stock price at a future time, we'll predict the stock price at time t+1  relative to the stock price at time t, here will use the previous three records n=3 to predict our next price "
   ]
  },
  {
   "cell_type": "code",
   "execution_count": 100,
   "metadata": {},
   "outputs": [
    {
     "data": {
      "text/plain": [
       "'X train previous price'"
      ]
     },
     "metadata": {},
     "output_type": "display_data"
    },
    {
     "data": {
      "text/plain": [
       "array([[0.        , 0.41716495],\n",
       "       [0.01896543, 0.54971835]])"
      ]
     },
     "metadata": {},
     "output_type": "display_data"
    },
    {
     "data": {
      "text/plain": [
       "'Y train predicted price'"
      ]
     },
     "metadata": {},
     "output_type": "display_data"
    },
    {
     "data": {
      "text/plain": [
       "0.021977133098413815"
      ]
     },
     "metadata": {},
     "output_type": "display_data"
    }
   ],
   "source": [
    "n = 3\n",
    "Xtrain = []\n",
    "Xtest = []\n",
    "ytrain = []\n",
    "ytest = []\n",
    "for i in range(n, len(X_train)):\n",
    "    Xtrain.append(X_train[i-n : i : X_train.shape[1]])\n",
    "    ytrain.append(y_train[i])\n",
    "for i in range(n, len(X_test)):\n",
    "    Xtest.append(X_test[i-n : i : X_test.shape[1]])\n",
    "    ytest.append(y_test[i])\n",
    "\n",
    "display('X train previous price',  Xtrain[0], 'Y train predicted price', ytrain[0])"
   ]
  },
  {
   "cell_type": "code",
   "execution_count": 101,
   "metadata": {},
   "outputs": [
    {
     "data": {
      "text/html": [
       "<div>\n",
       "<style scoped>\n",
       "    .dataframe tbody tr th:only-of-type {\n",
       "        vertical-align: middle;\n",
       "    }\n",
       "\n",
       "    .dataframe tbody tr th {\n",
       "        vertical-align: top;\n",
       "    }\n",
       "\n",
       "    .dataframe thead th {\n",
       "        text-align: right;\n",
       "    }\n",
       "</style>\n",
       "<table border=\"1\" class=\"dataframe\">\n",
       "  <thead>\n",
       "    <tr style=\"text-align: right;\">\n",
       "      <th></th>\n",
       "      <th>Date</th>\n",
       "      <th>Open</th>\n",
       "      <th>High</th>\n",
       "      <th>Low</th>\n",
       "      <th>Close</th>\n",
       "      <th>Adj Close</th>\n",
       "      <th>Volume</th>\n",
       "      <th>Returns</th>\n",
       "      <th>Log_Returns</th>\n",
       "    </tr>\n",
       "  </thead>\n",
       "  <tbody>\n",
       "    <tr>\n",
       "      <th>1</th>\n",
       "      <td>2019-01-03</td>\n",
       "      <td>100.099998</td>\n",
       "      <td>100.190002</td>\n",
       "      <td>97.199997</td>\n",
       "      <td>97.400002</td>\n",
       "      <td>93.310875</td>\n",
       "      <td>42579100</td>\n",
       "      <td>-0.036788</td>\n",
       "      <td>-0.037482</td>\n",
       "    </tr>\n",
       "    <tr>\n",
       "      <th>2</th>\n",
       "      <td>2019-01-04</td>\n",
       "      <td>99.720001</td>\n",
       "      <td>102.510002</td>\n",
       "      <td>98.930000</td>\n",
       "      <td>101.930000</td>\n",
       "      <td>97.650673</td>\n",
       "      <td>44060600</td>\n",
       "      <td>0.046509</td>\n",
       "      <td>0.045460</td>\n",
       "    </tr>\n",
       "    <tr>\n",
       "      <th>3</th>\n",
       "      <td>2019-01-07</td>\n",
       "      <td>101.639999</td>\n",
       "      <td>103.269997</td>\n",
       "      <td>100.980003</td>\n",
       "      <td>102.059998</td>\n",
       "      <td>97.775223</td>\n",
       "      <td>35656100</td>\n",
       "      <td>0.001275</td>\n",
       "      <td>0.001275</td>\n",
       "    </tr>\n",
       "    <tr>\n",
       "      <th>4</th>\n",
       "      <td>2019-01-08</td>\n",
       "      <td>103.040001</td>\n",
       "      <td>103.970001</td>\n",
       "      <td>101.709999</td>\n",
       "      <td>102.800003</td>\n",
       "      <td>98.484177</td>\n",
       "      <td>31514400</td>\n",
       "      <td>0.007251</td>\n",
       "      <td>0.007225</td>\n",
       "    </tr>\n",
       "    <tr>\n",
       "      <th>5</th>\n",
       "      <td>2019-01-09</td>\n",
       "      <td>103.860001</td>\n",
       "      <td>104.879997</td>\n",
       "      <td>103.239998</td>\n",
       "      <td>104.269997</td>\n",
       "      <td>99.892441</td>\n",
       "      <td>32280800</td>\n",
       "      <td>0.014300</td>\n",
       "      <td>0.014198</td>\n",
       "    </tr>\n",
       "  </tbody>\n",
       "</table>\n",
       "</div>"
      ],
      "text/plain": [
       "         Date        Open        High         Low       Close  Adj Close  \\\n",
       "1  2019-01-03  100.099998  100.190002   97.199997   97.400002  93.310875   \n",
       "2  2019-01-04   99.720001  102.510002   98.930000  101.930000  97.650673   \n",
       "3  2019-01-07  101.639999  103.269997  100.980003  102.059998  97.775223   \n",
       "4  2019-01-08  103.040001  103.970001  101.709999  102.800003  98.484177   \n",
       "5  2019-01-09  103.860001  104.879997  103.239998  104.269997  99.892441   \n",
       "\n",
       "     Volume   Returns  Log_Returns  \n",
       "1  42579100 -0.036788    -0.037482  \n",
       "2  44060600  0.046509     0.045460  \n",
       "3  35656100  0.001275     0.001275  \n",
       "4  31514400  0.007251     0.007225  \n",
       "5  32280800  0.014300     0.014198  "
      ]
     },
     "metadata": {},
     "output_type": "display_data"
    },
    {
     "data": {
      "text/plain": [
       "'y price'"
      ]
     },
     "metadata": {},
     "output_type": "display_data"
    },
    {
     "data": {
      "text/plain": [
       "array([[102.800003  ,  -0.15945342]])"
      ]
     },
     "metadata": {},
     "output_type": "display_data"
    }
   ],
   "source": [
    "# lets check how our y prices look after inverse transform\n",
    "next_price = np.array(ytrain[0])\n",
    "next_price = np.c_[next_price, np.zeros(next_price.shape)]\n",
    "next_price = mms.inverse_transform(next_price)\n",
    "display(df.head(), 'y price', next_price)\n"
   ]
  },
  {
   "cell_type": "code",
   "execution_count": 102,
   "metadata": {},
   "outputs": [
    {
     "data": {
      "text/plain": [
       "((812, 2, 2), (812,), (201, 2, 2), (201,))"
      ]
     },
     "execution_count": 102,
     "metadata": {},
     "output_type": "execute_result"
    }
   ],
   "source": [
    "Xtrain, ytrain = (np.array(Xtrain), np.array(ytrain))\n",
    "Xtrain = np.reshape(Xtrain, (Xtrain.shape[0], Xtrain.shape[1], Xtrain.shape[2]))\n",
    "Xtest, ytest = (np.array(Xtest), np.array(ytest))\n",
    "Xtest = np.reshape(Xtest, (Xtest.shape[0], Xtest.shape[1], Xtest.shape[2]))\n",
    "\n",
    "Xtrain.shape, ytrain.shape, Xtest.shape, ytest.shape"
   ]
  },
  {
   "attachments": {},
   "cell_type": "markdown",
   "metadata": {},
   "source": [
    "## LSTM Model"
   ]
  },
  {
   "cell_type": "code",
   "execution_count": 107,
   "metadata": {},
   "outputs": [],
   "source": [
    "from keras.models import Sequential\n",
    "from keras.layers import LSTM, Dense\n",
    "from sklearn.metrics import mean_squared_error"
   ]
  },
  {
   "cell_type": "code",
   "execution_count": 104,
   "metadata": {},
   "outputs": [
    {
     "name": "stdout",
     "output_type": "stream",
     "text": [
      "Epoch 1/100\n",
      "51/51 [==============================] - 3s 22ms/step - loss: 0.4282 - val_loss: 0.5127\n",
      "Epoch 2/100\n",
      "51/51 [==============================] - 0s 7ms/step - loss: 0.2609 - val_loss: 0.3103\n",
      "Epoch 3/100\n",
      "51/51 [==============================] - 0s 5ms/step - loss: 0.1564 - val_loss: 0.1706\n",
      "Epoch 4/100\n",
      "51/51 [==============================] - 0s 5ms/step - loss: 0.0954 - val_loss: 0.0831\n",
      "Epoch 5/100\n",
      "51/51 [==============================] - 0s 5ms/step - loss: 0.0693 - val_loss: 0.0423\n",
      "Epoch 6/100\n",
      "51/51 [==============================] - 0s 5ms/step - loss: 0.0602 - val_loss: 0.0285\n",
      "Epoch 7/100\n",
      "51/51 [==============================] - 0s 5ms/step - loss: 0.0545 - val_loss: 0.0238\n",
      "Epoch 8/100\n",
      "51/51 [==============================] - 0s 5ms/step - loss: 0.0492 - val_loss: 0.0201\n",
      "Epoch 9/100\n",
      "51/51 [==============================] - 0s 4ms/step - loss: 0.0437 - val_loss: 0.0174\n",
      "Epoch 10/100\n",
      "51/51 [==============================] - 0s 5ms/step - loss: 0.0381 - val_loss: 0.0150\n",
      "Epoch 11/100\n",
      "51/51 [==============================] - 0s 5ms/step - loss: 0.0324 - val_loss: 0.0113\n",
      "Epoch 12/100\n",
      "51/51 [==============================] - 0s 5ms/step - loss: 0.0267 - val_loss: 0.0104\n",
      "Epoch 13/100\n",
      "51/51 [==============================] - 0s 5ms/step - loss: 0.0211 - val_loss: 0.0065\n",
      "Epoch 14/100\n",
      "51/51 [==============================] - 0s 5ms/step - loss: 0.0159 - val_loss: 0.0055\n",
      "Epoch 15/100\n",
      "51/51 [==============================] - 0s 5ms/step - loss: 0.0112 - val_loss: 0.0035\n",
      "Epoch 16/100\n",
      "51/51 [==============================] - 0s 5ms/step - loss: 0.0074 - val_loss: 0.0020\n",
      "Epoch 17/100\n",
      "51/51 [==============================] - 0s 5ms/step - loss: 0.0045 - val_loss: 0.0016\n",
      "Epoch 18/100\n",
      "51/51 [==============================] - 0s 5ms/step - loss: 0.0026 - val_loss: 0.0011\n",
      "Epoch 19/100\n",
      "51/51 [==============================] - 0s 6ms/step - loss: 0.0015 - val_loss: 0.0010\n",
      "Epoch 20/100\n",
      "51/51 [==============================] - 0s 6ms/step - loss: 9.4582e-04 - val_loss: 9.6244e-04\n",
      "Epoch 21/100\n",
      "51/51 [==============================] - 0s 5ms/step - loss: 6.9983e-04 - val_loss: 9.8967e-04\n",
      "Epoch 22/100\n",
      "51/51 [==============================] - 0s 5ms/step - loss: 6.0416e-04 - val_loss: 0.0010\n",
      "Epoch 23/100\n",
      "51/51 [==============================] - 0s 5ms/step - loss: 5.6933e-04 - val_loss: 0.0010\n",
      "Epoch 24/100\n",
      "51/51 [==============================] - 0s 5ms/step - loss: 5.5505e-04 - val_loss: 0.0011\n",
      "Epoch 25/100\n",
      "51/51 [==============================] - 0s 5ms/step - loss: 5.4858e-04 - val_loss: 0.0010\n",
      "Epoch 26/100\n",
      "51/51 [==============================] - 0s 5ms/step - loss: 5.4353e-04 - val_loss: 0.0010\n",
      "Epoch 27/100\n",
      "51/51 [==============================] - 0s 5ms/step - loss: 5.3512e-04 - val_loss: 0.0011\n",
      "Epoch 28/100\n",
      "51/51 [==============================] - 0s 5ms/step - loss: 5.3016e-04 - val_loss: 0.0010\n",
      "Epoch 29/100\n",
      "51/51 [==============================] - 0s 5ms/step - loss: 5.2369e-04 - val_loss: 0.0011\n",
      "Epoch 30/100\n",
      "51/51 [==============================] - 0s 5ms/step - loss: 5.2333e-04 - val_loss: 0.0011\n",
      "Epoch 31/100\n",
      "51/51 [==============================] - 0s 5ms/step - loss: 5.1262e-04 - val_loss: 0.0011\n",
      "Epoch 32/100\n",
      "51/51 [==============================] - 0s 5ms/step - loss: 5.1456e-04 - val_loss: 0.0010\n",
      "Epoch 33/100\n",
      "51/51 [==============================] - 0s 5ms/step - loss: 5.0364e-04 - val_loss: 0.0011\n",
      "Epoch 34/100\n",
      "51/51 [==============================] - 0s 5ms/step - loss: 4.9757e-04 - val_loss: 0.0011\n",
      "Epoch 35/100\n",
      "51/51 [==============================] - 0s 5ms/step - loss: 4.9455e-04 - val_loss: 0.0010\n",
      "Epoch 36/100\n",
      "51/51 [==============================] - 0s 5ms/step - loss: 4.8817e-04 - val_loss: 0.0010\n",
      "Epoch 37/100\n",
      "51/51 [==============================] - 0s 5ms/step - loss: 4.8718e-04 - val_loss: 0.0010\n",
      "Epoch 38/100\n",
      "51/51 [==============================] - 0s 5ms/step - loss: 4.7471e-04 - val_loss: 0.0010\n",
      "Epoch 39/100\n",
      "51/51 [==============================] - 0s 5ms/step - loss: 4.7391e-04 - val_loss: 0.0011\n",
      "Epoch 40/100\n",
      "51/51 [==============================] - 0s 5ms/step - loss: 4.6832e-04 - val_loss: 0.0010\n",
      "Epoch 41/100\n",
      "51/51 [==============================] - 0s 5ms/step - loss: 4.6185e-04 - val_loss: 0.0010\n",
      "Epoch 42/100\n",
      "51/51 [==============================] - 0s 5ms/step - loss: 4.5779e-04 - val_loss: 0.0011\n",
      "Epoch 43/100\n",
      "51/51 [==============================] - 0s 5ms/step - loss: 4.5662e-04 - val_loss: 0.0011\n",
      "Epoch 44/100\n",
      "51/51 [==============================] - 0s 4ms/step - loss: 4.5064e-04 - val_loss: 0.0011\n",
      "Epoch 45/100\n",
      "51/51 [==============================] - 0s 4ms/step - loss: 4.4294e-04 - val_loss: 9.9156e-04\n",
      "Epoch 46/100\n",
      "51/51 [==============================] - 0s 5ms/step - loss: 4.3999e-04 - val_loss: 0.0011\n",
      "Epoch 47/100\n",
      "51/51 [==============================] - 0s 5ms/step - loss: 4.4208e-04 - val_loss: 0.0010\n",
      "Epoch 48/100\n",
      "51/51 [==============================] - 0s 5ms/step - loss: 4.3295e-04 - val_loss: 0.0010\n",
      "Epoch 49/100\n",
      "51/51 [==============================] - 0s 5ms/step - loss: 4.3174e-04 - val_loss: 0.0010\n",
      "Epoch 50/100\n",
      "51/51 [==============================] - 0s 6ms/step - loss: 4.3274e-04 - val_loss: 0.0011\n",
      "Epoch 51/100\n",
      "51/51 [==============================] - 0s 5ms/step - loss: 4.2598e-04 - val_loss: 0.0010\n",
      "Epoch 52/100\n",
      "51/51 [==============================] - 0s 5ms/step - loss: 4.2922e-04 - val_loss: 0.0010\n",
      "Epoch 53/100\n",
      "51/51 [==============================] - 0s 5ms/step - loss: 4.1879e-04 - val_loss: 0.0010\n",
      "Epoch 54/100\n",
      "51/51 [==============================] - 0s 5ms/step - loss: 4.1382e-04 - val_loss: 9.7277e-04\n",
      "Epoch 55/100\n",
      "51/51 [==============================] - 0s 5ms/step - loss: 4.1414e-04 - val_loss: 0.0011\n",
      "Epoch 56/100\n",
      "51/51 [==============================] - 0s 5ms/step - loss: 4.1142e-04 - val_loss: 9.8425e-04\n",
      "Epoch 57/100\n",
      "51/51 [==============================] - 0s 5ms/step - loss: 4.0925e-04 - val_loss: 0.0011\n",
      "Epoch 58/100\n",
      "51/51 [==============================] - 0s 5ms/step - loss: 4.1490e-04 - val_loss: 0.0010\n",
      "Epoch 59/100\n",
      "51/51 [==============================] - 0s 5ms/step - loss: 4.0658e-04 - val_loss: 9.7324e-04\n",
      "Epoch 60/100\n",
      "51/51 [==============================] - 0s 6ms/step - loss: 4.0536e-04 - val_loss: 0.0011\n",
      "Epoch 61/100\n",
      "51/51 [==============================] - 0s 5ms/step - loss: 3.9936e-04 - val_loss: 9.4723e-04\n",
      "Epoch 62/100\n",
      "51/51 [==============================] - 0s 5ms/step - loss: 3.9870e-04 - val_loss: 9.9686e-04\n",
      "Epoch 63/100\n",
      "51/51 [==============================] - 0s 5ms/step - loss: 3.9578e-04 - val_loss: 9.8391e-04\n",
      "Epoch 64/100\n",
      "51/51 [==============================] - 0s 5ms/step - loss: 3.9544e-04 - val_loss: 0.0011\n",
      "Epoch 65/100\n",
      "51/51 [==============================] - 0s 5ms/step - loss: 3.9310e-04 - val_loss: 9.8991e-04\n",
      "Epoch 66/100\n",
      "51/51 [==============================] - 0s 5ms/step - loss: 3.9951e-04 - val_loss: 0.0011\n",
      "Epoch 67/100\n",
      "51/51 [==============================] - 0s 5ms/step - loss: 3.8971e-04 - val_loss: 0.0011\n",
      "Epoch 68/100\n",
      "51/51 [==============================] - 0s 5ms/step - loss: 3.9184e-04 - val_loss: 0.0011\n",
      "Epoch 69/100\n",
      "51/51 [==============================] - 0s 5ms/step - loss: 3.8710e-04 - val_loss: 9.9156e-04\n",
      "Epoch 70/100\n",
      "51/51 [==============================] - 0s 5ms/step - loss: 3.8999e-04 - val_loss: 0.0010\n",
      "Epoch 71/100\n",
      "51/51 [==============================] - 0s 5ms/step - loss: 3.8975e-04 - val_loss: 0.0011\n",
      "Epoch 72/100\n",
      "51/51 [==============================] - 0s 5ms/step - loss: 3.8471e-04 - val_loss: 9.9997e-04\n",
      "Epoch 73/100\n",
      "51/51 [==============================] - 0s 5ms/step - loss: 3.8540e-04 - val_loss: 9.0458e-04\n",
      "Epoch 74/100\n",
      "51/51 [==============================] - 0s 5ms/step - loss: 3.8462e-04 - val_loss: 9.2085e-04\n",
      "Epoch 75/100\n",
      "51/51 [==============================] - 0s 5ms/step - loss: 3.8626e-04 - val_loss: 0.0010\n",
      "Epoch 76/100\n",
      "51/51 [==============================] - 0s 5ms/step - loss: 3.8998e-04 - val_loss: 0.0011\n",
      "Epoch 77/100\n",
      "51/51 [==============================] - 0s 5ms/step - loss: 3.7996e-04 - val_loss: 0.0010\n",
      "Epoch 78/100\n",
      "51/51 [==============================] - 0s 5ms/step - loss: 3.8709e-04 - val_loss: 0.0011\n",
      "Epoch 79/100\n",
      "51/51 [==============================] - 0s 5ms/step - loss: 3.9024e-04 - val_loss: 9.9618e-04\n",
      "Epoch 80/100\n",
      "51/51 [==============================] - 0s 5ms/step - loss: 3.7648e-04 - val_loss: 9.4567e-04\n",
      "Epoch 81/100\n",
      "51/51 [==============================] - 0s 5ms/step - loss: 3.8087e-04 - val_loss: 0.0010\n",
      "Epoch 82/100\n",
      "51/51 [==============================] - 0s 6ms/step - loss: 3.7506e-04 - val_loss: 0.0011\n",
      "Epoch 83/100\n",
      "51/51 [==============================] - 0s 5ms/step - loss: 3.7610e-04 - val_loss: 0.0010\n",
      "Epoch 84/100\n",
      "51/51 [==============================] - 0s 5ms/step - loss: 3.7501e-04 - val_loss: 9.9076e-04\n",
      "Epoch 85/100\n",
      "51/51 [==============================] - 0s 5ms/step - loss: 3.7218e-04 - val_loss: 9.2083e-04\n",
      "Epoch 86/100\n",
      "51/51 [==============================] - 0s 5ms/step - loss: 3.9062e-04 - val_loss: 0.0010\n",
      "Epoch 87/100\n",
      "51/51 [==============================] - 0s 5ms/step - loss: 3.7678e-04 - val_loss: 9.2752e-04\n",
      "Epoch 88/100\n",
      "51/51 [==============================] - 0s 5ms/step - loss: 3.7752e-04 - val_loss: 9.3651e-04\n",
      "Epoch 89/100\n",
      "51/51 [==============================] - 0s 5ms/step - loss: 3.7638e-04 - val_loss: 9.4651e-04\n",
      "Epoch 90/100\n",
      "51/51 [==============================] - 0s 5ms/step - loss: 3.6910e-04 - val_loss: 0.0010\n",
      "Epoch 91/100\n",
      "51/51 [==============================] - 0s 5ms/step - loss: 3.7207e-04 - val_loss: 9.9280e-04\n",
      "Epoch 92/100\n",
      "51/51 [==============================] - 0s 5ms/step - loss: 3.7145e-04 - val_loss: 9.5014e-04\n",
      "Epoch 93/100\n",
      "51/51 [==============================] - 0s 5ms/step - loss: 3.6975e-04 - val_loss: 0.0011\n",
      "Epoch 94/100\n",
      "51/51 [==============================] - 0s 5ms/step - loss: 3.7866e-04 - val_loss: 8.6808e-04\n",
      "Epoch 95/100\n",
      "51/51 [==============================] - 0s 5ms/step - loss: 3.6770e-04 - val_loss: 9.9631e-04\n",
      "Epoch 96/100\n",
      "51/51 [==============================] - 0s 5ms/step - loss: 3.7847e-04 - val_loss: 0.0011\n",
      "Epoch 97/100\n",
      "51/51 [==============================] - 0s 6ms/step - loss: 3.7269e-04 - val_loss: 8.8419e-04\n",
      "Epoch 98/100\n",
      "51/51 [==============================] - 0s 5ms/step - loss: 3.7292e-04 - val_loss: 8.5589e-04\n",
      "Epoch 99/100\n",
      "51/51 [==============================] - 0s 4ms/step - loss: 3.7727e-04 - val_loss: 9.8359e-04\n",
      "Epoch 100/100\n",
      "51/51 [==============================] - 0s 5ms/step - loss: 3.7493e-04 - val_loss: 8.8461e-04\n"
     ]
    },
    {
     "data": {
      "text/plain": [
       "<keras.callbacks.History at 0x7f03f403e6e0>"
      ]
     },
     "execution_count": 104,
     "metadata": {},
     "output_type": "execute_result"
    }
   ],
   "source": [
    "model = Sequential()\n",
    "model.add(LSTM(4, input_shape=(Xtrain.shape[1], Xtrain.shape[2])))\n",
    "model.add(Dense(1))\n",
    "model.compile(loss='mean_squared_error', optimizer='adam')\n",
    "model.fit(Xtrain, ytrain, epochs=100, validation_data=(Xtest, ytest), verbose=1, batch_size=16)"
   ]
  },
  {
   "cell_type": "code",
   "execution_count": 105,
   "metadata": {},
   "outputs": [
    {
     "name": "stdout",
     "output_type": "stream",
     "text": [
      "Model: \"sequential_2\"\n",
      "_________________________________________________________________\n",
      " Layer (type)                Output Shape              Param #   \n",
      "=================================================================\n",
      " lstm_2 (LSTM)               (None, 4)                 112       \n",
      "                                                                 \n",
      " dense_2 (Dense)             (None, 1)                 5         \n",
      "                                                                 \n",
      "=================================================================\n",
      "Total params: 117\n",
      "Trainable params: 117\n",
      "Non-trainable params: 0\n",
      "_________________________________________________________________\n"
     ]
    }
   ],
   "source": [
    "model.summary()"
   ]
  },
  {
   "cell_type": "code",
   "execution_count": 108,
   "metadata": {},
   "outputs": [
    {
     "name": "stdout",
     "output_type": "stream",
     "text": [
      "7/7 [==============================] - 1s 2ms/step\n"
     ]
    }
   ],
   "source": [
    "preds = model.predict(Xtest)"
   ]
  },
  {
   "cell_type": "code",
   "execution_count": 114,
   "metadata": {},
   "outputs": [
    {
     "data": {
      "text/plain": [
       "0.02974242320901805"
      ]
     },
     "execution_count": 114,
     "metadata": {},
     "output_type": "execute_result"
    }
   ],
   "source": [
    "score = mean_squared_error(ytest, preds, squared=False)\n",
    "score"
   ]
  }
 ],
 "metadata": {
  "kernelspec": {
   "display_name": "market",
   "language": "python",
   "name": "python3"
  },
  "language_info": {
   "codemirror_mode": {
    "name": "ipython",
    "version": 3
   },
   "file_extension": ".py",
   "mimetype": "text/x-python",
   "name": "python",
   "nbconvert_exporter": "python",
   "pygments_lexer": "ipython3",
   "version": "3.10.9 (main, Jan 11 2023, 15:21:40) [GCC 11.2.0]"
  },
  "orig_nbformat": 4,
  "vscode": {
   "interpreter": {
    "hash": "a2f76f2d9e56445737a0bcd99a747e370e681f1e4643e5f140f944b4774f983a"
   }
  }
 },
 "nbformat": 4,
 "nbformat_minor": 2
}
